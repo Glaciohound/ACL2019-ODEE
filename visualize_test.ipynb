{
 "cells": [
  {
   "cell_type": "code",
   "execution_count": null,
   "metadata": {},
   "outputs": [],
   "source": [
    "import plotly.graph_objs as go\n",
    "from plotly.offline import iplot, init_notebook_mode\n",
    "import numpy as np\n",
    "import yaml\n",
    "from data import ParsedCorpus\n",
    "%matplotlib inline\n",
    "\n",
    "init_notebook_mode(connected=True)"
   ]
  },
  {
   "cell_type": "code",
   "execution_count": null,
   "metadata": {},
   "outputs": [],
   "source": [
    "with open(\"setting.yaml\", \"r\") as stream:\n",
    "    setting = yaml.load(stream)"
   ]
  },
  {
   "cell_type": "code",
   "execution_count": null,
   "metadata": {
    "scrolled": true
   },
   "outputs": [],
   "source": [
    "base_dirs = [setting[\"parsed_data_path\"][\"dev\"]]\n",
    "print(\"base_dirs are\", base_dirs)"
   ]
  },
  {
   "cell_type": "code",
   "execution_count": null,
   "metadata": {},
   "outputs": [],
   "source": [
    "corpus = ParsedCorpus(base_dirs)"
   ]
  },
  {
   "cell_type": "code",
   "execution_count": null,
   "metadata": {},
   "outputs": [],
   "source": [
    "fn2answer = {}\n",
    "\n",
    "for answer, fn in corpus.get_single(\"answer\"):\n",
    "    fn2answer[fn] = answer"
   ]
  },
  {
   "cell_type": "markdown",
   "metadata": {},
   "source": [
    "## T-SNE"
   ]
  },
  {
   "cell_type": "code",
   "execution_count": null,
   "metadata": {},
   "outputs": [],
   "source": [
    "events = []\n",
    "fns = []\n",
    "for fn, answer in fn2answer.items():\n",
    "    event = answer[\"mean\"]\n",
    "    events.append(event)\n",
    "    fns.append(fn)\n",
    "events = np.array(events)\n",
    "\n",
    "events.shape"
   ]
  },
  {
   "cell_type": "code",
   "execution_count": null,
   "metadata": {},
   "outputs": [],
   "source": [
    "from sklearn.manifold import TSNE\n",
    "\n",
    "events_2d = TSNE(n_components=2).fit_transform(events)"
   ]
  },
  {
   "cell_type": "code",
   "execution_count": null,
   "metadata": {},
   "outputs": [],
   "source": [
    "events_X, events_Y = events_2d[:, 0], events_2d[:, 1]"
   ]
  },
  {
   "cell_type": "code",
   "execution_count": null,
   "metadata": {},
   "outputs": [],
   "source": [
    "iplot([go.Scatter(x=events_X, y=events_Y, mode=\"markers\")])"
   ]
  },
  {
   "cell_type": "markdown",
   "metadata": {},
   "source": [
    "## Spectral Clustering"
   ]
  },
  {
   "cell_type": "code",
   "execution_count": null,
   "metadata": {},
   "outputs": [],
   "source": [
    "from sklearn.cluster import SpectralClustering\n",
    "\n",
    "y_pred = SpectralClustering().fit_predict(events)\n",
    "\n",
    "from sklearn import metrics\n",
    "print(\"Calinski-Harabasz Score\", metrics.calinski_harabasz_score(events, y_pred))"
   ]
  },
  {
   "cell_type": "code",
   "execution_count": null,
   "metadata": {},
   "outputs": [],
   "source": [
    "for index, gamma in enumerate((0.01, 0.1, 1, 10)):\n",
    "    for index, k in enumerate((4, 5, 6, 7)):\n",
    "        y_pred = SpectralClustering(n_clusters=k, gamma=gamma).fit_predict(events)\n",
    "        print(\"Calinski-Harabasz Score with gamma=\", gamma, \"n_clusters=\", k,\"score:\", metrics.calinski_harabasz_score(events, y_pred))"
   ]
  },
  {
   "cell_type": "code",
   "execution_count": null,
   "metadata": {},
   "outputs": [],
   "source": [
    "y_pred = SpectralClustering(gamma=0.01, n_clusters=4).fit_predict(events)\n",
    "print(\"Calinski-Harabasz Score\", metrics.calinski_harabasz_score(events, y_pred))"
   ]
  },
  {
   "cell_type": "code",
   "execution_count": null,
   "metadata": {},
   "outputs": [],
   "source": [
    "id2xs = {}\n",
    "id2ys = {}\n",
    "id2fns = {}\n",
    "\n",
    "for x, y, fn, index in zip(events_X, events_Y, fns, y_pred):\n",
    "    if index not in id2xs:\n",
    "        id2xs[index] = []\n",
    "        id2ys[index] = []\n",
    "        id2fns[index] = []\n",
    "    id2xs[index].append(x)\n",
    "    id2ys[index].append(y)\n",
    "    id2fns[index].append(fn)\n",
    "\n",
    "iplot([go.Scatter(x=id2xs[index], y=id2ys[index], mode=\"markers\") for index in id2xs.keys()])"
   ]
  },
  {
   "cell_type": "markdown",
   "metadata": {},
   "source": [
    "## Looking into news groups"
   ]
  },
  {
   "cell_type": "code",
   "execution_count": null,
   "metadata": {},
   "outputs": [],
   "source": [
    "for k in sorted(id2fns.keys()):\n",
    "    print(\"GROUP %d\" % k)\n",
    "    for x in sorted(id2fns[k]):\n",
    "        print(x)\n",
    "    print()"
   ]
  },
  {
   "cell_type": "code",
   "execution_count": null,
   "metadata": {},
   "outputs": [],
   "source": []
  }
 ],
 "metadata": {
  "kernelspec": {
   "display_name": "Python 3",
   "language": "python",
   "name": "python3"
  },
  "language_info": {
   "codemirror_mode": {
    "name": "ipython",
    "version": 3
   },
   "file_extension": ".py",
   "mimetype": "text/x-python",
   "name": "python",
   "nbconvert_exporter": "python",
   "pygments_lexer": "ipython3",
   "version": "3.8.3"
  }
 },
 "nbformat": 4,
 "nbformat_minor": 2
}
